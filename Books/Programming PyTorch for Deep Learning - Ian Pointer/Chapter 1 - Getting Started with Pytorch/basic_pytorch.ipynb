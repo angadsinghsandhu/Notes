{
 "cells": [
  {
   "cell_type": "code",
   "execution_count": null,
   "metadata": {},
   "outputs": [],
   "source": []
  },
  {
   "cell_type": "code",
   "execution_count": null,
   "metadata": {},
   "outputs": [],
   "source": [
    "import torch\n",
    "\n",
    "print(torch.cuda.is_available())"
   ]
  },
  {
   "cell_type": "code",
   "execution_count": null,
   "metadata": {},
   "outputs": [],
   "source": [
    "# Creating Tensor of random values\n",
    "print(torch.rand(2, 2))"
   ]
  },
  {
   "cell_type": "code",
   "execution_count": null,
   "metadata": {},
   "outputs": [],
   "source": [
    "# creating tensor from given list\n",
    "x = torch.tensor([[0,0,1],[1,1,1],[0,0,0]])\n",
    "print(x)"
   ]
  },
  {
   "cell_type": "code",
   "execution_count": null,
   "metadata": {},
   "outputs": [],
   "source": [
    "# editing tensors using python indexing\n",
    "x[0][0] = 5\n",
    "print(x)"
   ]
  },
  {
   "cell_type": "code",
   "execution_count": null,
   "metadata": {},
   "outputs": [],
   "source": [
    "# special creation functions\n",
    "t_one = torch.zeros(2, 2)\n",
    "t_zero = torch.zeros(2, 2)\n",
    "\n",
    "print(t_one, t_zero)"
   ]
  },
  {
   "cell_type": "code",
   "execution_count": 1,
   "metadata": {},
   "outputs": [
    {
     "ename": "NameError",
     "evalue": "name 'x' is not defined",
     "output_type": "error",
     "traceback": [
      "\u001b[1;31m---------------------------------------------------------------------------\u001b[0m",
      "\u001b[1;31mNameError\u001b[0m                                 Traceback (most recent call last)",
      "Cell \u001b[1;32mIn[1], line 4\u001b[0m\n\u001b[0;32m      1\u001b[0m \u001b[39m## standard mathematical operations\u001b[39;00m\n\u001b[0;32m      2\u001b[0m \n\u001b[0;32m      3\u001b[0m \u001b[39m# adding matrices\u001b[39;00m\n\u001b[1;32m----> 4\u001b[0m \u001b[39mprint\u001b[39m(x\u001b[39m+\u001b[39my)\n",
      "\u001b[1;31mNameError\u001b[0m: name 'x' is not defined"
     ]
    }
   ],
   "source": [
    "## standard mathematical operations\n",
    "\n",
    "# adding matrices\n",
    "print(x+y)"
   ]
  },
  {
   "cell_type": "code",
   "execution_count": null,
   "metadata": {},
   "outputs": [],
   "source": [
    "# pulling out the value from a rank 0 tensor\n",
    "val = torch.rand(1).item()\n",
    "print(val)"
   ]
  },
  {
   "cell_type": "code",
   "execution_count": null,
   "metadata": {},
   "outputs": [],
   "source": [
    "## shifting tensors between CPU and GPU using `.to()` method\n",
    "# CPU tensor\n",
    "t_cpu = torch.rand(2)\n",
    "print(t_cpu.device)\n",
    "\n",
    "t_gpu = t_cpu.to(\"cuda\")\n",
    "print(t_gpu.device)"
   ]
  },
  {
   "cell_type": "code",
   "execution_count": null,
   "metadata": {},
   "outputs": [],
   "source": [
    "# finding largest element and position of a tensor\n",
    "t_max = torch.rand(2,2).max()\n",
    "t_arg = torch.rand(2,2).argmax()\n",
    "val = t_max.item()      # Converting tensor to python value\n",
    "pos = t_arg.item()\n",
    "\n",
    "print(val, pos)"
   ]
  },
  {
   "cell_type": "code",
   "execution_count": null,
   "metadata": {},
   "outputs": [],
   "source": [
    "# Change datatype being used by tensor\n",
    "long_tensor = torch.tensor([[0,0,1],[1,1,1],[0,0,0]])\n",
    "print(long_tensor.type())\n",
    "\n",
    "float_tensor = long_tensor.to(dtype=torch.float32)\n",
    "print(float_tensor.type())"
   ]
  },
  {
   "cell_type": "code",
   "execution_count": 2,
   "metadata": {},
   "outputs": [
    {
     "ename": "NameError",
     "evalue": "name 'torch' is not defined",
     "output_type": "error",
     "traceback": [
      "\u001b[1;31m---------------------------------------------------------------------------\u001b[0m",
      "\u001b[1;31mNameError\u001b[0m                                 Traceback (most recent call last)",
      "Cell \u001b[1;32mIn[2], line 2\u001b[0m\n\u001b[0;32m      1\u001b[0m \u001b[39m# using in-place functions (denoted by `_` at the end) to conserve memory by not creating new tensors\u001b[39;00m\n\u001b[1;32m----> 2\u001b[0m random_tensor \u001b[39m=\u001b[39m torch\u001b[39m.\u001b[39mrand(\u001b[39m2\u001b[39m,\u001b[39m2\u001b[39m)\n\u001b[0;32m      4\u001b[0m t_out \u001b[39m=\u001b[39m random_tensor\u001b[39m.\u001b[39mlog2()        \u001b[39m# new tensor created\u001b[39;00m\n\u001b[0;32m      5\u001b[0m \u001b[39mprint\u001b[39m(t_out, random_tensor)\n",
      "\u001b[1;31mNameError\u001b[0m: name 'torch' is not defined"
     ]
    }
   ],
   "source": [
    "# using in-place functions (denoted by `_` at the end) to conserve memory by not creating new tensors\n",
    "random_tensor = torch.rand(2,2)\n",
    "\n",
    "t_out = random_tensor.log2()        # new tensor created\n",
    "print(t_out, random_tensor)\n",
    "\n",
    "t_in = random_tensor.log2_()               # in-place operation\n",
    "print(t_in, random_tensor)"
   ]
  },
  {
   "cell_type": "code",
   "execution_count": null,
   "metadata": {},
   "outputs": [],
   "source": [
    "# reshaping tensors\n",
    "flat_tensor = torch.rand(784)\n",
    "\n",
    "viewed_tensor = flat_tensor.view(1,28,28)\n",
    "print(viewed_tensor.shape)\n",
    "\n",
    "reshaped_tensor = flat_tensor.reshape(1,28,28)\n",
    "print(reshaped_tensor.shape)"
   ]
  },
  {
   "cell_type": "code",
   "execution_count": null,
   "metadata": {},
   "outputs": [],
   "source": [
    "# rearranging the dimentions of tensors\n",
    "hwc_tensor = torch.rand(640, 480, 3)\n",
    "chw_tensor = hwc_tensor.permute(2,0,1)\n",
    "print(chw_tensor.shape)"
   ]
  },
  {
   "cell_type": "code",
   "execution_count": null,
   "metadata": {},
   "outputs": [],
   "source": [
    "# Broadcasting smaller tensor to larger tensor\n",
    "# requirement to boadcast (looking at dims from backwards) :\n",
    "#   - The two dimensions are equal.\n",
    "#   - One of the dimensions is 1\n",
    "\n",
    "t_add = torch.rand(3, 3) + torch.rand(1, 3)\n",
    "print(t_add)"
   ]
  }
 ],
 "metadata": {
  "kernelspec": {
   "display_name": "Python 3",
   "language": "python",
   "name": "python3"
  },
  "language_info": {
   "codemirror_mode": {
    "name": "ipython",
    "version": 3
   },
   "file_extension": ".py",
   "mimetype": "text/x-python",
   "name": "python",
   "nbconvert_exporter": "python",
   "pygments_lexer": "ipython3",
   "version": "3.11.4"
  },
  "orig_nbformat": 4
 },
 "nbformat": 4,
 "nbformat_minor": 2
}
