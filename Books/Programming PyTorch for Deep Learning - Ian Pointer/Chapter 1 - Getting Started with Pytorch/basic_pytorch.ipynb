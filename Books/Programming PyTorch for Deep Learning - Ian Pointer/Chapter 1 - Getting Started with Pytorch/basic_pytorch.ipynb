{
 "cells": [
  {
   "cell_type": "markdown",
   "metadata": {},
   "source": [
    "# PyTorch Basics"
   ]
  },
  {
   "cell_type": "code",
   "execution_count": 1,
   "metadata": {},
   "outputs": [
    {
     "name": "stdout",
     "output_type": "stream",
     "text": [
      "True 1 NVIDIA GeForce GTX 1660 Ti\n"
     ]
    }
   ],
   "source": [
    "import torch\n",
    "\n",
    "print(torch.cuda.is_available(), torch.cuda.device_count(), torch.cuda.get_device_name())"
   ]
  },
  {
   "cell_type": "code",
   "execution_count": 2,
   "metadata": {},
   "outputs": [
    {
     "name": "stdout",
     "output_type": "stream",
     "text": [
      "tensor([[0.6486, 0.2393],\n",
      "        [0.9708, 0.0374]])\n"
     ]
    }
   ],
   "source": [
    "# Creating Tensor of random values\n",
    "print(torch.rand(2, 2))"
   ]
  },
  {
   "cell_type": "code",
   "execution_count": 3,
   "metadata": {},
   "outputs": [
    {
     "name": "stdout",
     "output_type": "stream",
     "text": [
      "tensor([[0, 0, 1],\n",
      "        [1, 1, 1],\n",
      "        [0, 0, 0]])\n"
     ]
    }
   ],
   "source": [
    "# creating tensor from given list\n",
    "x = torch.tensor([[0,0,1],[1,1,1],[0,0,0]])\n",
    "print(x)"
   ]
  },
  {
   "cell_type": "code",
   "execution_count": 4,
   "metadata": {},
   "outputs": [
    {
     "name": "stdout",
     "output_type": "stream",
     "text": [
      "tensor([[5, 0, 1],\n",
      "        [1, 1, 1],\n",
      "        [0, 0, 0]])\n"
     ]
    }
   ],
   "source": [
    "# editing tensors using python indexing\n",
    "x[0][0] = 5\n",
    "print(x)"
   ]
  },
  {
   "cell_type": "code",
   "execution_count": 7,
   "metadata": {},
   "outputs": [
    {
     "name": "stdout",
     "output_type": "stream",
     "text": [
      "tensor([[1., 1.],\n",
      "        [1., 1.]])\n",
      "tensor([[0., 0.],\n",
      "        [0., 0.]])\n"
     ]
    }
   ],
   "source": [
    "# special creation functions\n",
    "t_one = torch.ones(2, 2)\n",
    "t_zero = torch.zeros(2, 2)\n",
    "\n",
    "print(t_one)\n",
    "print(t_zero)"
   ]
  },
  {
   "cell_type": "code",
   "execution_count": 10,
   "metadata": {},
   "outputs": [
    {
     "name": "stdout",
     "output_type": "stream",
     "text": [
      "tensor([[1., 1.],\n",
      "        [1., 1.]])\n"
     ]
    }
   ],
   "source": [
    "## standard mathematical operations\n",
    "\n",
    "# adding matrices\n",
    "print(t_zero + t_one)"
   ]
  },
  {
   "cell_type": "code",
   "execution_count": 11,
   "metadata": {},
   "outputs": [
    {
     "name": "stdout",
     "output_type": "stream",
     "text": [
      "0.5833820700645447\n"
     ]
    }
   ],
   "source": [
    "# pulling out the value from a rank 0 tensor\n",
    "val = torch.rand(1).item()\n",
    "print(val)"
   ]
  },
  {
   "cell_type": "code",
   "execution_count": 12,
   "metadata": {},
   "outputs": [
    {
     "name": "stdout",
     "output_type": "stream",
     "text": [
      "cpu\n",
      "cuda:0\n"
     ]
    }
   ],
   "source": [
    "## shifting tensors between CPU and GPU using `.to()` method\n",
    "# CPU tensor\n",
    "t_cpu = torch.rand(2)\n",
    "print(t_cpu.device)\n",
    "\n",
    "t_gpu = t_cpu.to(\"cuda\")\n",
    "print(t_gpu.device)"
   ]
  },
  {
   "cell_type": "code",
   "execution_count": 19,
   "metadata": {},
   "outputs": [
    {
     "name": "stdout",
     "output_type": "stream",
     "text": [
      "tensor([[0.3132, 0.4692],\n",
      "        [0.8079, 0.9207]])\n",
      "0.9206789135932922 3\n"
     ]
    }
   ],
   "source": [
    "# finding largest element and position of a tensor\n",
    "t = torch.rand(2,2)\n",
    "t_max = t.max()\n",
    "t_arg = t.argmax()\n",
    "val = t_max.item()      # Converting tensor to python value\n",
    "pos = t_arg.item()\n",
    "\n",
    "print(t)\n",
    "print(val, pos)"
   ]
  },
  {
   "cell_type": "code",
   "execution_count": 20,
   "metadata": {},
   "outputs": [
    {
     "name": "stdout",
     "output_type": "stream",
     "text": [
      "torch.LongTensor\n",
      "torch.FloatTensor\n"
     ]
    }
   ],
   "source": [
    "# Change datatype being used by tensor\n",
    "long_tensor = torch.tensor([[0,0,1],[1,1,1],[0,0,0]])\n",
    "print(long_tensor.type())\n",
    "\n",
    "float_tensor = long_tensor.to(dtype=torch.float32)\n",
    "print(float_tensor.type())"
   ]
  },
  {
   "cell_type": "code",
   "execution_count": 22,
   "metadata": {},
   "outputs": [
    {
     "name": "stdout",
     "output_type": "stream",
     "text": [
      "tensor([[-9.9785e-01, -2.3328e+00],\n",
      "        [-4.6030e-03, -5.5391e+00]])\n",
      "tensor([[0.5007, 0.1985],\n",
      "        [0.9968, 0.0215]])\n",
      "tensor([[-9.9785e-01, -2.3328e+00],\n",
      "        [-4.6030e-03, -5.5391e+00]])\n",
      "tensor([[-9.9785e-01, -2.3328e+00],\n",
      "        [-4.6030e-03, -5.5391e+00]])\n"
     ]
    }
   ],
   "source": [
    "# using in-place functions (denoted by `_` at the end) to conserve memory by not creating new tensors\n",
    "random_tensor = torch.rand(2,2)\n",
    "\n",
    "t_out = random_tensor.log2()        # new tensor created\n",
    "print(t_out)\n",
    "print(random_tensor)\n",
    "\n",
    "t_in = random_tensor.log2_()               # in-place operation\n",
    "print(t_in)\n",
    "print(random_tensor)"
   ]
  },
  {
   "cell_type": "code",
   "execution_count": 23,
   "metadata": {},
   "outputs": [
    {
     "name": "stdout",
     "output_type": "stream",
     "text": [
      "torch.Size([1, 28, 28])\n",
      "torch.Size([1, 28, 28])\n"
     ]
    }
   ],
   "source": [
    "# reshaping tensors\n",
    "flat_tensor = torch.rand(784)\n",
    "\n",
    "viewed_tensor = flat_tensor.view(1,28,28)\n",
    "print(viewed_tensor.shape)\n",
    "\n",
    "reshaped_tensor = flat_tensor.reshape(1,28,28)\n",
    "print(reshaped_tensor.shape)"
   ]
  },
  {
   "cell_type": "code",
   "execution_count": 24,
   "metadata": {},
   "outputs": [
    {
     "name": "stdout",
     "output_type": "stream",
     "text": [
      "torch.Size([3, 640, 480])\n"
     ]
    }
   ],
   "source": [
    "# rearranging the dimentions of tensors\n",
    "hwc_tensor = torch.rand(640, 480, 3)\n",
    "chw_tensor = hwc_tensor.permute(2,0,1)\n",
    "print(chw_tensor.shape)"
   ]
  },
  {
   "cell_type": "code",
   "execution_count": 25,
   "metadata": {},
   "outputs": [
    {
     "name": "stdout",
     "output_type": "stream",
     "text": [
      "tensor([[0.6281, 0.1686, 0.4985],\n",
      "        [0.6248, 0.9454, 0.1637],\n",
      "        [0.4713, 0.7593, 0.3255]])\n"
     ]
    }
   ],
   "source": [
    "# Broadcasting smaller tensor to larger tensor\n",
    "# requirement to boadcast (looking at dims from backwards) :\n",
    "#   - The two dimensions are equal.\n",
    "#   - One of the dimensions is 1\n",
    "\n",
    "t_add = torch.rand(3, 3) + torch.rand(1, 3)\n",
    "print(t_add)"
   ]
  }
 ],
 "metadata": {
  "kernelspec": {
   "display_name": "Python 3",
   "language": "python",
   "name": "python3"
  },
  "language_info": {
   "codemirror_mode": {
    "name": "ipython",
    "version": 3
   },
   "file_extension": ".py",
   "mimetype": "text/x-python",
   "name": "python",
   "nbconvert_exporter": "python",
   "pygments_lexer": "ipython3",
   "version": "3.11.4"
  },
  "orig_nbformat": 4
 },
 "nbformat": 4,
 "nbformat_minor": 2
}
