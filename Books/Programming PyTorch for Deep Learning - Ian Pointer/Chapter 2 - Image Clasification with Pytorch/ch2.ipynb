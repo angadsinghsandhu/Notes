{
 "cells": [
  {
   "cell_type": "markdown",
   "metadata": {},
   "source": [
    "# Chapter 2 : Image Clasification with Pytorch\n",
    "\n",
    "## Making outr first Neural Network in PyTorch "
   ]
  },
  {
   "cell_type": "code",
   "execution_count": 11,
   "metadata": {},
   "outputs": [],
   "source": [
    "# imports\n",
    "import torch, torchvision\n",
    "import torch.nn as nn\n",
    "import torch.optim as optim\n",
    "import torch.utils.data as data\n",
    "import torch.nn.functional as F\n",
    "\n",
    "from torchvision import transforms\n",
    "from PIL import Image, ImageFile\n",
    "\n",
    "ImageFile.LOAD_TRUNCATED_IMAGES=True"
   ]
  },
  {
   "cell_type": "code",
   "execution_count": 26,
   "metadata": {},
   "outputs": [],
   "source": [
    "# checking for GPU\n",
    "if torch.cuda.is_available():\n",
    "    device = torch.device(\"cuda\")\n",
    "else:\n",
    "    device = torch.device(\"cpu\")"
   ]
  },
  {
   "cell_type": "markdown",
   "metadata": {},
   "source": [
    "## Importing Data"
   ]
  },
  {
   "cell_type": "code",
   "execution_count": 32,
   "metadata": {},
   "outputs": [],
   "source": [
    "train_data_path = \"./train/\"\n",
    "val_data_path = \"./val/\"\n",
    "test_data_path = \"./test/\"\n",
    "\n",
    "# creating transformation pipeline\n",
    "transformation = transforms.Compose([\n",
    "    transforms.Resize((64, 64)),\n",
    "    transforms.ToTensor(),\n",
    "    transforms.Normalize(mean=[0.485, 0.456, 0.406], std=[0.229, 0.224, 0.225]),\n",
    "])"
   ]
  },
  {
   "cell_type": "code",
   "execution_count": 33,
   "metadata": {},
   "outputs": [],
   "source": [
    "def check_image(path):\n",
    "    try:\n",
    "        im = Image.open(path)\n",
    "        return True\n",
    "    except:\n",
    "        return False"
   ]
  },
  {
   "cell_type": "code",
   "execution_count": 34,
   "metadata": {},
   "outputs": [],
   "source": [
    "# getting datasets\n",
    "train_data = torchvision.datasets.ImageFolder(root=train_data_path, transform=transformation, is_valid_file=check_image)\n",
    "val_data = torchvision.datasets.ImageFolder(root=val_data_path, transform=transformation, is_valid_file=check_image)\n",
    "test_data = torchvision.datasets.ImageFolder(root=test_data_path, transform=transformation, is_valid_file=check_image)"
   ]
  },
  {
   "cell_type": "code",
   "execution_count": 35,
   "metadata": {},
   "outputs": [],
   "source": [
    "# building Data Loaders\n",
    "batch_size=128\n",
    "train_data_loader = data.DataLoader(train_data, batch_size=batch_size)\n",
    "val_data_loader = data.DataLoader(val_data, batch_size=batch_size)\n",
    "test_data_loader = data.DataLoader(test_data, batch_size=batch_size)"
   ]
  },
  {
   "cell_type": "markdown",
   "metadata": {},
   "source": [
    "## Creating Model"
   ]
  },
  {
   "cell_type": "code",
   "execution_count": 41,
   "metadata": {},
   "outputs": [],
   "source": [
    "# Creating Networf\n",
    "class SimpleNet(nn.Module):\n",
    "    \n",
    "    # Initializing Layers and variables\n",
    "    def __init__(self):\n",
    "        super(SimpleNet, self).__init__()\n",
    "        self.fc1 = nn.Linear(12288, 84)\n",
    "        self.fc2 = nn.Linear(84, 50)\n",
    "        self.fc3 = nn.Linear(50, 2)\n",
    "\n",
    "    # forward function\n",
    "    def forward(self, x):\n",
    "        x = x.view(-1, 12288)\n",
    "        x = F.relu(self.fc1(x))\n",
    "        x = F.relu(self.fc2(x))\n",
    "        x = self.fc3(x)\n",
    "\n",
    "        return x"
   ]
  },
  {
   "cell_type": "code",
   "execution_count": 42,
   "metadata": {},
   "outputs": [
    {
     "data": {
      "text/plain": [
       "SimpleNet(\n",
       "  (fc1): Linear(in_features=12288, out_features=84, bias=True)\n",
       "  (fc2): Linear(in_features=84, out_features=50, bias=True)\n",
       "  (fc3): Linear(in_features=50, out_features=2, bias=True)\n",
       ")"
      ]
     },
     "execution_count": 42,
     "metadata": {},
     "output_type": "execute_result"
    }
   ],
   "source": [
    "# initiating model\n",
    "simplenet = SimpleNet()\n",
    "\n",
    "# adding model to GPU\n",
    "simplenet.to(device)"
   ]
  },
  {
   "cell_type": "code",
   "execution_count": 43,
   "metadata": {},
   "outputs": [],
   "source": [
    "optimizer = optim.Adam(simplenet.parameters(), lr=0.001)"
   ]
  },
  {
   "cell_type": "markdown",
   "metadata": {},
   "source": [
    "## Training"
   ]
  },
  {
   "cell_type": "code",
   "execution_count": 55,
   "metadata": {},
   "outputs": [],
   "source": [
    "def train(model, optimizer, loss_fn, train_loader, val_loader, epochs=20, device=\"cpu\"):\n",
    "    for epoch in range(1, epochs+1):\n",
    "        \n",
    "        model.train()\n",
    "        train_loss = 0.0\n",
    "\n",
    "        for batch in train_loader:\n",
    "            optimizer.zero_grad()\n",
    "            inputs, targets = batch\n",
    "\n",
    "            inputs = inputs.to(device)\n",
    "            targets = targets.to(device)\n",
    "\n",
    "            output = model(inputs)\n",
    "            loss = loss_fn(output, targets)\n",
    "            loss.backward()\n",
    "            optimizer.step()\n",
    "\n",
    "            train_loss += loss.data.item()\n",
    "\n",
    "        train_loss /= len(train_loader.dataset)\n",
    "\n",
    "        model.eval()\n",
    "        val_loss = 0.0\n",
    "        \n",
    "        num_correct = 0\n",
    "        num_examples = 0\n",
    "\n",
    "        for batch in val_loader:\n",
    "            # NO : optimizer.zero_grad()\n",
    "            inputs, targets = batch\n",
    "\n",
    "            inputs = inputs.to(device)\n",
    "            targets = targets.to(device)\n",
    "\n",
    "            output = model(inputs)\n",
    "            loss = loss_fn(output, targets)\n",
    "\n",
    "            val_loss += loss.data.item() * inputs.size(0)\n",
    "            \n",
    "            correct = torch.eq(torch.max(F.softmax(output, dim=1), dim=1)[1], targets)\n",
    "            num_correct += torch.sum(correct).item()\n",
    "            num_examples += correct.shape[0] \n",
    "\n",
    "            # loss.backward()\n",
    "            # optimizer.step()\n",
    "            # train_loss += loss.data.item()\n",
    "\n",
    "        val_loss /= len(val_loader.dataset)\n",
    "\n",
    "        # printing statememnt per epoch\n",
    "        print(f\"Epoch: {epoch}, Training Loss: {train_loss:.4f}, Validation Loss: {val_loss:.3f}, Accuracy: {(num_correct/num_examples):.2f}\")\n"
   ]
  },
  {
   "cell_type": "code",
   "execution_count": 57,
   "metadata": {},
   "outputs": [
    {
     "name": "stdout",
     "output_type": "stream",
     "text": [
      "Epoch: 1, Training Loss: 0.0000, Validation Loss: 1.177, Accuracy: 0.72\n",
      "Epoch: 2, Training Loss: 0.0000, Validation Loss: 1.272, Accuracy: 0.71\n",
      "Epoch: 3, Training Loss: 0.0000, Validation Loss: 1.261, Accuracy: 0.71\n"
     ]
    }
   ],
   "source": [
    "# Calling Training Function\n",
    "train(simplenet, optimizer, torch.nn.CrossEntropyLoss(), train_data_loader, val_data_loader, epochs=3, device=device)"
   ]
  },
  {
   "cell_type": "markdown",
   "metadata": {},
   "source": [
    "## Inference"
   ]
  },
  {
   "cell_type": "code",
   "execution_count": 58,
   "metadata": {},
   "outputs": [
    {
     "name": "stdout",
     "output_type": "stream",
     "text": [
      "fish\n"
     ]
    }
   ],
   "source": [
    "labels = ['cat','fish']\n",
    "\n",
    "img = Image.open(\"./val/fish/100_1422.JPG\") \n",
    "img = transformation(img).to(device)\n",
    "img = torch.unsqueeze(img, 0)\n",
    "\n",
    "simplenet.eval()\n",
    "prediction = F.softmax(simplenet(img), dim=1)\n",
    "prediction = prediction.argmax()\n",
    "print(labels[prediction]) "
   ]
  },
  {
   "cell_type": "code",
   "execution_count": 59,
   "metadata": {},
   "outputs": [
    {
     "name": "stdout",
     "output_type": "stream",
     "text": [
      "#1 === Prediction: cat, Actual Label: cat\n",
      "#2 === Prediction: cat, Actual Label: cat\n",
      "#3 === Prediction: cat, Actual Label: cat\n",
      "#4 === Prediction: cat, Actual Label: cat\n",
      "#5 === Prediction: cat, Actual Label: cat\n",
      "#6 === Prediction: fish, Actual Label: cat\n",
      "#7 === Prediction: cat, Actual Label: cat\n",
      "#8 === Prediction: cat, Actual Label: cat\n",
      "#9 === Prediction: cat, Actual Label: cat\n",
      "#10 === Prediction: cat, Actual Label: cat\n",
      "#11 === Prediction: cat, Actual Label: cat\n",
      "#12 === Prediction: cat, Actual Label: cat\n",
      "#13 === Prediction: cat, Actual Label: cat\n",
      "#14 === Prediction: cat, Actual Label: cat\n",
      "#15 === Prediction: cat, Actual Label: cat\n",
      "#16 === Prediction: cat, Actual Label: cat\n",
      "#17 === Prediction: fish, Actual Label: cat\n",
      "#18 === Prediction: cat, Actual Label: cat\n",
      "#19 === Prediction: cat, Actual Label: cat\n",
      "#20 === Prediction: cat, Actual Label: cat\n",
      "#21 === Prediction: cat, Actual Label: cat\n",
      "#22 === Prediction: cat, Actual Label: cat\n",
      "#23 === Prediction: cat, Actual Label: cat\n",
      "#24 === Prediction: cat, Actual Label: cat\n",
      "#25 === Prediction: cat, Actual Label: cat\n",
      "#26 === Prediction: cat, Actual Label: cat\n",
      "#27 === Prediction: fish, Actual Label: cat\n",
      "#28 === Prediction: cat, Actual Label: cat\n",
      "#29 === Prediction: fish, Actual Label: cat\n",
      "#30 === Prediction: cat, Actual Label: cat\n",
      "#31 === Prediction: cat, Actual Label: cat\n",
      "#32 === Prediction: cat, Actual Label: cat\n",
      "#33 === Prediction: cat, Actual Label: cat\n",
      "#34 === Prediction: cat, Actual Label: cat\n",
      "#35 === Prediction: cat, Actual Label: cat\n",
      "#36 === Prediction: fish, Actual Label: cat\n",
      "#37 === Prediction: cat, Actual Label: cat\n",
      "#38 === Prediction: cat, Actual Label: cat\n",
      "#39 === Prediction: cat, Actual Label: cat\n",
      "#40 === Prediction: fish, Actual Label: cat\n",
      "#41 === Prediction: cat, Actual Label: cat\n",
      "#42 === Prediction: cat, Actual Label: cat\n",
      "#43 === Prediction: cat, Actual Label: cat\n",
      "#44 === Prediction: cat, Actual Label: cat\n",
      "#45 === Prediction: cat, Actual Label: cat\n",
      "#46 === Prediction: cat, Actual Label: cat\n",
      "#47 === Prediction: cat, Actual Label: cat\n",
      "#48 === Prediction: fish, Actual Label: cat\n",
      "#49 === Prediction: cat, Actual Label: cat\n",
      "#50 === Prediction: fish, Actual Label: cat\n",
      "#51 === Prediction: cat, Actual Label: cat\n",
      "#52 === Prediction: cat, Actual Label: cat\n",
      "#53 === Prediction: fish, Actual Label: cat\n",
      "#54 === Prediction: cat, Actual Label: cat\n",
      "#55 === Prediction: cat, Actual Label: cat\n",
      "#56 === Prediction: cat, Actual Label: cat\n",
      "#57 === Prediction: fish, Actual Label: cat\n",
      "#58 === Prediction: cat, Actual Label: cat\n",
      "#59 === Prediction: cat, Actual Label: cat\n",
      "#60 === Prediction: cat, Actual Label: cat\n",
      "#61 === Prediction: fish, Actual Label: cat\n",
      "#62 === Prediction: cat, Actual Label: cat\n",
      "#63 === Prediction: cat, Actual Label: cat\n",
      "#64 === Prediction: cat, Actual Label: cat\n",
      "#65 === Prediction: fish, Actual Label: cat\n",
      "#66 === Prediction: cat, Actual Label: cat\n",
      "#67 === Prediction: fish, Actual Label: cat\n",
      "#68 === Prediction: cat, Actual Label: cat\n",
      "#69 === Prediction: cat, Actual Label: cat\n",
      "#70 === Prediction: cat, Actual Label: cat\n",
      "#71 === Prediction: cat, Actual Label: cat\n",
      "#72 === Prediction: cat, Actual Label: cat\n",
      "#73 === Prediction: cat, Actual Label: cat\n",
      "#74 === Prediction: fish, Actual Label: cat\n",
      "#75 === Prediction: fish, Actual Label: cat\n",
      "#76 === Prediction: cat, Actual Label: cat\n",
      "#77 === Prediction: cat, Actual Label: cat\n",
      "#78 === Prediction: cat, Actual Label: cat\n",
      "#79 === Prediction: cat, Actual Label: cat\n",
      "#80 === Prediction: cat, Actual Label: cat\n",
      "#81 === Prediction: cat, Actual Label: cat\n",
      "#82 === Prediction: cat, Actual Label: cat\n",
      "#83 === Prediction: cat, Actual Label: cat\n",
      "#84 === Prediction: cat, Actual Label: cat\n",
      "#85 === Prediction: cat, Actual Label: cat\n",
      "#86 === Prediction: fish, Actual Label: cat\n",
      "#87 === Prediction: cat, Actual Label: cat\n",
      "#88 === Prediction: fish, Actual Label: cat\n",
      "#89 === Prediction: cat, Actual Label: cat\n",
      "#90 === Prediction: fish, Actual Label: cat\n",
      "#91 === Prediction: cat, Actual Label: cat\n",
      "#92 === Prediction: fish, Actual Label: fish\n",
      "#93 === Prediction: fish, Actual Label: fish\n",
      "#94 === Prediction: fish, Actual Label: fish\n",
      "#95 === Prediction: fish, Actual Label: fish\n",
      "#96 === Prediction: fish, Actual Label: fish\n",
      "#97 === Prediction: fish, Actual Label: fish\n",
      "#98 === Prediction: fish, Actual Label: fish\n",
      "#99 === Prediction: fish, Actual Label: fish\n",
      "#100 === Prediction: cat, Actual Label: fish\n",
      "#101 === Prediction: fish, Actual Label: fish\n",
      "#102 === Prediction: fish, Actual Label: fish\n",
      "#103 === Prediction: fish, Actual Label: fish\n",
      "#104 === Prediction: fish, Actual Label: fish\n",
      "#105 === Prediction: fish, Actual Label: fish\n",
      "#106 === Prediction: cat, Actual Label: fish\n",
      "#107 === Prediction: cat, Actual Label: fish\n",
      "#108 === Prediction: fish, Actual Label: fish\n",
      "#109 === Prediction: fish, Actual Label: fish\n",
      "#110 === Prediction: cat, Actual Label: fish\n",
      "#111 === Prediction: fish, Actual Label: fish\n",
      "#112 === Prediction: fish, Actual Label: fish\n",
      "#113 === Prediction: fish, Actual Label: fish\n",
      "#114 === Prediction: fish, Actual Label: fish\n",
      "#115 === Prediction: fish, Actual Label: fish\n",
      "#116 === Prediction: fish, Actual Label: fish\n",
      "#117 === Prediction: fish, Actual Label: fish\n",
      "#118 === Prediction: cat, Actual Label: fish\n",
      "#119 === Prediction: cat, Actual Label: fish\n",
      "#120 === Prediction: cat, Actual Label: fish\n",
      "#121 === Prediction: cat, Actual Label: fish\n",
      "#122 === Prediction: fish, Actual Label: fish\n",
      "#123 === Prediction: fish, Actual Label: fish\n",
      "#124 === Prediction: cat, Actual Label: fish\n",
      "#125 === Prediction: fish, Actual Label: fish\n",
      "#126 === Prediction: fish, Actual Label: fish\n",
      "#127 === Prediction: fish, Actual Label: fish\n",
      "#128 === Prediction: cat, Actual Label: fish\n",
      "#1 === Prediction: fish, Actual Label: fish\n",
      "#2 === Prediction: fish, Actual Label: fish\n",
      "#3 === Prediction: cat, Actual Label: fish\n",
      "#4 === Prediction: fish, Actual Label: fish\n",
      "#5 === Prediction: cat, Actual Label: fish\n",
      "#6 === Prediction: cat, Actual Label: fish\n",
      "#7 === Prediction: cat, Actual Label: fish\n",
      "#8 === Prediction: fish, Actual Label: fish\n",
      "#9 === Prediction: fish, Actual Label: fish\n",
      "#10 === Prediction: cat, Actual Label: fish\n",
      "#11 === Prediction: fish, Actual Label: fish\n",
      "#12 === Prediction: fish, Actual Label: fish\n",
      "#13 === Prediction: fish, Actual Label: fish\n",
      "#14 === Prediction: fish, Actual Label: fish\n",
      "#15 === Prediction: fish, Actual Label: fish\n",
      "#16 === Prediction: fish, Actual Label: fish\n",
      "#17 === Prediction: fish, Actual Label: fish\n",
      "#18 === Prediction: fish, Actual Label: fish\n",
      "#19 === Prediction: fish, Actual Label: fish\n",
      "#20 === Prediction: fish, Actual Label: fish\n",
      "#21 === Prediction: fish, Actual Label: fish\n",
      "#22 === Prediction: fish, Actual Label: fish\n",
      "#23 === Prediction: fish, Actual Label: fish\n",
      "#24 === Prediction: cat, Actual Label: fish\n",
      "#25 === Prediction: fish, Actual Label: fish\n",
      "#26 === Prediction: fish, Actual Label: fish\n",
      "#27 === Prediction: fish, Actual Label: fish\n",
      "#28 === Prediction: fish, Actual Label: fish\n",
      "#29 === Prediction: fish, Actual Label: fish\n",
      "#30 === Prediction: cat, Actual Label: fish\n",
      "#31 === Prediction: fish, Actual Label: fish\n",
      "#32 === Prediction: fish, Actual Label: fish\n"
     ]
    }
   ],
   "source": [
    "labels = ['cat','fish']\n",
    "\n",
    "for batch in test_data_loader:\n",
    "    inputs, targets = batch\n",
    "    inputs = inputs.to(device)\n",
    "    targets = targets.to(device)\n",
    "\n",
    "    predictions = simplenet(inputs)\n",
    "\n",
    "    for i, prediction in enumerate(predictions):\n",
    "        prediction = prediction.argmax()\n",
    "        print(f\"#{i+1} === Prediction: {labels[prediction]}, Actual Label: {labels[targets[i]]}\")"
   ]
  },
  {
   "cell_type": "code",
   "execution_count": null,
   "metadata": {},
   "outputs": [],
   "source": [
    "labels = ['cat','fish']\n",
    "correct = 0\n",
    "total = 0\n",
    "\n",
    "with torch.no_grad():\n",
    "    for batch in test_data_loader:\n",
    "        inputs, targets = batch\n",
    "        inputs = inputs.to(device)\n",
    "        targets = targets.to(device)\n",
    "\n",
    "        predictions = simplenet(inputs)\n",
    "\n",
    "        for i, prediction in enumerate(predictions):\n",
    "            prediction = prediction.argmax()\n",
    "            if prediction == targets[i]:\n",
    "                correct += 1\n",
    "            total += 1\n",
    "        \n",
    "        accuracy = correct / total\n",
    "        print(f\"Accuracy of this Batch {i+1} : {accuracy}\")"
   ]
  },
  {
   "cell_type": "markdown",
   "metadata": {},
   "source": [
    "## Saving & Loading Model"
   ]
  },
  {
   "cell_type": "code",
   "execution_count": 62,
   "metadata": {},
   "outputs": [],
   "source": [
    "torch.save(simplenet, \"./model/simplenet\")"
   ]
  },
  {
   "cell_type": "code",
   "execution_count": 63,
   "metadata": {},
   "outputs": [],
   "source": [
    "simplenet = torch.load(\"./model/simplenet\")"
   ]
  },
  {
   "cell_type": "code",
   "execution_count": 64,
   "metadata": {},
   "outputs": [],
   "source": [
    "torch.save(simplenet.state_dict(), \"./model/simplenet-state-dict\")"
   ]
  },
  {
   "cell_type": "code",
   "execution_count": 65,
   "metadata": {},
   "outputs": [
    {
     "data": {
      "text/plain": [
       "<All keys matched successfully>"
      ]
     },
     "execution_count": 65,
     "metadata": {},
     "output_type": "execute_result"
    }
   ],
   "source": [
    "simplenet = SimpleNet()\n",
    "simplenet_state_dict = torch.load(\"./model/simplenet-state-dict\")\n",
    "simplenet.load_state_dict(simplenet_state_dict)"
   ]
  }
 ],
 "metadata": {
  "kernelspec": {
   "display_name": "Python 3",
   "language": "python",
   "name": "python3"
  },
  "language_info": {
   "codemirror_mode": {
    "name": "ipython",
    "version": 3
   },
   "file_extension": ".py",
   "mimetype": "text/x-python",
   "name": "python",
   "nbconvert_exporter": "python",
   "pygments_lexer": "ipython3",
   "version": "3.11.4"
  },
  "orig_nbformat": 4
 },
 "nbformat": 4,
 "nbformat_minor": 2
}
